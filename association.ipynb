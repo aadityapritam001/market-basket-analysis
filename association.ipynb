{
 "cells": [
  {
   "cell_type": "markdown",
   "id": "ca31e764",
   "metadata": {},
   "source": [
    "# 1. Import Libraries "
   ]
  },
  {
   "cell_type": "code",
   "execution_count": 53,
   "id": "e12befd2",
   "metadata": {},
   "outputs": [],
   "source": [
    "import pandas as pd\n",
    "import numpy as np\n",
    "import matplotlib.pyplot as plt\n",
    "import seaborn as sns\n",
    "from mlxtend.frequent_patterns import apriori, association_rules\n",
    "from ydata_profiling import ProfileReport\n"
   ]
  },
  {
   "cell_type": "markdown",
   "id": "f4a5bafc",
   "metadata": {},
   "source": [
    "# 2. Read grocery data "
   ]
  },
  {
   "cell_type": "code",
   "execution_count": 54,
   "id": "bfc9028c",
   "metadata": {},
   "outputs": [
    {
     "data": {
      "text/html": [
       "<div>\n",
       "<style scoped>\n",
       "    .dataframe tbody tr th:only-of-type {\n",
       "        vertical-align: middle;\n",
       "    }\n",
       "\n",
       "    .dataframe tbody tr th {\n",
       "        vertical-align: top;\n",
       "    }\n",
       "\n",
       "    .dataframe thead th {\n",
       "        text-align: right;\n",
       "    }\n",
       "</style>\n",
       "<table border=\"1\" class=\"dataframe\">\n",
       "  <thead>\n",
       "    <tr style=\"text-align: right;\">\n",
       "      <th></th>\n",
       "      <th>Member_number</th>\n",
       "      <th>Date</th>\n",
       "      <th>itemDescription</th>\n",
       "    </tr>\n",
       "  </thead>\n",
       "  <tbody>\n",
       "    <tr>\n",
       "      <th>0</th>\n",
       "      <td>1808</td>\n",
       "      <td>2015-07-21</td>\n",
       "      <td>tropical fruit</td>\n",
       "    </tr>\n",
       "    <tr>\n",
       "      <th>1</th>\n",
       "      <td>2552</td>\n",
       "      <td>2015-01-05</td>\n",
       "      <td>whole milk</td>\n",
       "    </tr>\n",
       "    <tr>\n",
       "      <th>2</th>\n",
       "      <td>2300</td>\n",
       "      <td>2015-09-19</td>\n",
       "      <td>pip fruit</td>\n",
       "    </tr>\n",
       "    <tr>\n",
       "      <th>3</th>\n",
       "      <td>1187</td>\n",
       "      <td>2015-12-12</td>\n",
       "      <td>other vegetables</td>\n",
       "    </tr>\n",
       "    <tr>\n",
       "      <th>4</th>\n",
       "      <td>3037</td>\n",
       "      <td>2015-02-01</td>\n",
       "      <td>whole milk</td>\n",
       "    </tr>\n",
       "  </tbody>\n",
       "</table>\n",
       "</div>"
      ],
      "text/plain": [
       "   Member_number       Date   itemDescription\n",
       "0           1808 2015-07-21    tropical fruit\n",
       "1           2552 2015-01-05        whole milk\n",
       "2           2300 2015-09-19         pip fruit\n",
       "3           1187 2015-12-12  other vegetables\n",
       "4           3037 2015-02-01        whole milk"
      ]
     },
     "execution_count": 54,
     "metadata": {},
     "output_type": "execute_result"
    }
   ],
   "source": [
    "sales_data = pd.read_csv('Groceries_dataset.csv')\n",
    "sales_data = pd.DataFrame(sales_data)\n",
    "sales_data['Date'] = pd.to_datetime(sales_data['Date'],format='%d-%m-%Y', errors='coerce')\n",
    "sales_data.head()"
   ]
  },
  {
   "cell_type": "markdown",
   "id": "88468abd",
   "metadata": {},
   "source": [
    "# 3. Data Profiling"
   ]
  },
  {
   "cell_type": "code",
   "execution_count": 55,
   "id": "364b14c9",
   "metadata": {},
   "outputs": [
    {
     "data": {
      "application/vnd.jupyter.widget-view+json": {
       "model_id": "e9e5b22402c24b199481a9920e061075",
       "version_major": 2,
       "version_minor": 0
      },
      "text/plain": [
       "Summarize dataset:   0%|          | 0/5 [00:00<?, ?it/s]"
      ]
     },
     "metadata": {},
     "output_type": "display_data"
    },
    {
     "name": "stderr",
     "output_type": "stream",
     "text": [
      "100%|██████████| 3/3 [00:00<00:00, 12.85it/s]\n"
     ]
    },
    {
     "data": {
      "application/vnd.jupyter.widget-view+json": {
       "model_id": "e0c772721f0c415cb814869733f54bcb",
       "version_major": 2,
       "version_minor": 0
      },
      "text/plain": [
       "Generate report structure:   0%|          | 0/1 [00:00<?, ?it/s]"
      ]
     },
     "metadata": {},
     "output_type": "display_data"
    },
    {
     "name": "stderr",
     "output_type": "stream",
     "text": [
      "/Library/Frameworks/Python.framework/Versions/3.10/lib/python3.10/site-packages/matplotlib/cbook.py:684: DeprecationWarning: __array__ implementation doesn't accept a copy keyword, so passing copy=False failed. __array__ must implement 'dtype' and 'copy' keyword arguments.\n",
      "  x = np.array(x, subok=True, copy=copy)\n",
      "/Library/Frameworks/Python.framework/Versions/3.10/lib/python3.10/site-packages/matplotlib/cbook.py:684: DeprecationWarning: __array__ implementation doesn't accept a copy keyword, so passing copy=False failed. __array__ must implement 'dtype' and 'copy' keyword arguments.\n",
      "  x = np.array(x, subok=True, copy=copy)\n"
     ]
    },
    {
     "data": {
      "application/vnd.jupyter.widget-view+json": {
       "model_id": "8c52acef128842b39ec8f04c27e093c4",
       "version_major": 2,
       "version_minor": 0
      },
      "text/plain": [
       "Render HTML:   0%|          | 0/1 [00:00<?, ?it/s]"
      ]
     },
     "metadata": {},
     "output_type": "display_data"
    },
    {
     "data": {
      "application/vnd.jupyter.widget-view+json": {
       "model_id": "08a531ae9232459c9be47a20fd7783bf",
       "version_major": 2,
       "version_minor": 0
      },
      "text/plain": [
       "Export report to file:   0%|          | 0/1 [00:00<?, ?it/s]"
      ]
     },
     "metadata": {},
     "output_type": "display_data"
    }
   ],
   "source": [
    "data_report = ProfileReport(sales_data)\n",
    "data_report.to_file('sales_data_report.html')"
   ]
  },
  {
   "cell_type": "markdown",
   "id": "7bb7f139",
   "metadata": {},
   "source": [
    "# 4. Analyse the Frequency and Uniqueness of Products"
   ]
  },
  {
   "cell_type": "code",
   "execution_count": 56,
   "id": "2457284e",
   "metadata": {},
   "outputs": [
    {
     "name": "stdout",
     "output_type": "stream",
     "text": [
      "Total unique products: 167\n"
     ]
    },
    {
     "data": {
      "text/html": [
       "<div>\n",
       "<style scoped>\n",
       "    .dataframe tbody tr th:only-of-type {\n",
       "        vertical-align: middle;\n",
       "    }\n",
       "\n",
       "    .dataframe tbody tr th {\n",
       "        vertical-align: top;\n",
       "    }\n",
       "\n",
       "    .dataframe thead th {\n",
       "        text-align: right;\n",
       "    }\n",
       "</style>\n",
       "<table border=\"1\" class=\"dataframe\">\n",
       "  <thead>\n",
       "    <tr style=\"text-align: right;\">\n",
       "      <th></th>\n",
       "      <th>itemDescription</th>\n",
       "      <th>frequency</th>\n",
       "    </tr>\n",
       "  </thead>\n",
       "  <tbody>\n",
       "    <tr>\n",
       "      <th>0</th>\n",
       "      <td>whole milk</td>\n",
       "      <td>2502</td>\n",
       "    </tr>\n",
       "    <tr>\n",
       "      <th>1</th>\n",
       "      <td>other vegetables</td>\n",
       "      <td>1898</td>\n",
       "    </tr>\n",
       "    <tr>\n",
       "      <th>2</th>\n",
       "      <td>rolls/buns</td>\n",
       "      <td>1716</td>\n",
       "    </tr>\n",
       "    <tr>\n",
       "      <th>3</th>\n",
       "      <td>soda</td>\n",
       "      <td>1514</td>\n",
       "    </tr>\n",
       "    <tr>\n",
       "      <th>4</th>\n",
       "      <td>yogurt</td>\n",
       "      <td>1334</td>\n",
       "    </tr>\n",
       "    <tr>\n",
       "      <th>...</th>\n",
       "      <td>...</td>\n",
       "      <td>...</td>\n",
       "    </tr>\n",
       "    <tr>\n",
       "      <th>162</th>\n",
       "      <td>rubbing alcohol</td>\n",
       "      <td>5</td>\n",
       "    </tr>\n",
       "    <tr>\n",
       "      <th>163</th>\n",
       "      <td>bags</td>\n",
       "      <td>4</td>\n",
       "    </tr>\n",
       "    <tr>\n",
       "      <th>164</th>\n",
       "      <td>baby cosmetics</td>\n",
       "      <td>3</td>\n",
       "    </tr>\n",
       "    <tr>\n",
       "      <th>165</th>\n",
       "      <td>kitchen utensil</td>\n",
       "      <td>1</td>\n",
       "    </tr>\n",
       "    <tr>\n",
       "      <th>166</th>\n",
       "      <td>preservation products</td>\n",
       "      <td>1</td>\n",
       "    </tr>\n",
       "  </tbody>\n",
       "</table>\n",
       "<p>167 rows × 2 columns</p>\n",
       "</div>"
      ],
      "text/plain": [
       "           itemDescription  frequency\n",
       "0               whole milk       2502\n",
       "1         other vegetables       1898\n",
       "2               rolls/buns       1716\n",
       "3                     soda       1514\n",
       "4                   yogurt       1334\n",
       "..                     ...        ...\n",
       "162        rubbing alcohol          5\n",
       "163                   bags          4\n",
       "164         baby cosmetics          3\n",
       "165        kitchen utensil          1\n",
       "166  preservation products          1\n",
       "\n",
       "[167 rows x 2 columns]"
      ]
     },
     "execution_count": 56,
     "metadata": {},
     "output_type": "execute_result"
    }
   ],
   "source": [
    "total_unique_items = sales_data['itemDescription'].nunique()\n",
    "print('Total unique products:',total_unique_items)\n",
    "\n",
    "# show the product frequencies \n",
    "item_frequencies = sales_data['itemDescription'].value_counts().reset_index()\n",
    "item_frequencies.columns = ['itemDescription', 'frequency']\n",
    "item_frequencies = item_frequencies.sort_values('frequency', ascending=False)\n",
    "item_frequencies"
   ]
  },
  {
   "cell_type": "markdown",
   "id": "f9a38d86",
   "metadata": {},
   "source": [
    "# 5. Visualize the top 20 most frequent products"
   ]
  },
  {
   "cell_type": "code",
   "execution_count": 57,
   "id": "a607cb29",
   "metadata": {},
   "outputs": [
    {
     "data": {
      "image/png": "[encoded data removed]",
      "text/plain": [
       "<Figure size 640x480 with 1 Axes>"
      ]
     },
     "metadata": {},
     "output_type": "display_data"
    }
   ],
   "source": [
    "# plot the most frequent top 20 items\n",
    "%matplotlib inline\n",
    "plt.Figure(figsize=(12, 6))\n",
    "plt.bar(item_frequencies['itemDescription'][:20], item_frequencies['frequency'][:20])\n",
    "plt.xticks(rotation=90)\n",
    "plt.xlabel('Item Description')\n",
    "plt.ylabel('Frequency')\n",
    "plt.title('Top 20 Most Frequent Items')\n",
    "plt.tight_layout()\n",
    "plt.show()"
   ]
  },
  {
   "cell_type": "code",
   "execution_count": 58,
   "id": "e9b19c62",
   "metadata": {},
   "outputs": [
    {
     "data": {
      "text/html": [
       "<div>\n",
       "<style scoped>\n",
       "    .dataframe tbody tr th:only-of-type {\n",
       "        vertical-align: middle;\n",
       "    }\n",
       "\n",
       "    .dataframe tbody tr th {\n",
       "        vertical-align: top;\n",
       "    }\n",
       "\n",
       "    .dataframe thead th {\n",
       "        text-align: right;\n",
       "    }\n",
       "</style>\n",
       "<table border=\"1\" class=\"dataframe\">\n",
       "  <thead>\n",
       "    <tr style=\"text-align: right;\">\n",
       "      <th></th>\n",
       "      <th>Date</th>\n",
       "      <th>Member_number</th>\n",
       "      <th>itemDescription</th>\n",
       "    </tr>\n",
       "  </thead>\n",
       "  <tbody>\n",
       "    <tr>\n",
       "      <th>0</th>\n",
       "      <td>2014-01-01</td>\n",
       "      <td>1249</td>\n",
       "      <td>citrus fruit,coffee</td>\n",
       "    </tr>\n",
       "    <tr>\n",
       "      <th>1</th>\n",
       "      <td>2014-01-01</td>\n",
       "      <td>1381</td>\n",
       "      <td>curd,soda</td>\n",
       "    </tr>\n",
       "    <tr>\n",
       "      <th>2</th>\n",
       "      <td>2014-01-01</td>\n",
       "      <td>1440</td>\n",
       "      <td>other vegetables,yogurt</td>\n",
       "    </tr>\n",
       "    <tr>\n",
       "      <th>3</th>\n",
       "      <td>2014-01-01</td>\n",
       "      <td>1659</td>\n",
       "      <td>specialty chocolate,frozen vegetables</td>\n",
       "    </tr>\n",
       "    <tr>\n",
       "      <th>4</th>\n",
       "      <td>2014-01-01</td>\n",
       "      <td>1789</td>\n",
       "      <td>hamburger meat,candles</td>\n",
       "    </tr>\n",
       "    <tr>\n",
       "      <th>...</th>\n",
       "      <td>...</td>\n",
       "      <td>...</td>\n",
       "      <td>...</td>\n",
       "    </tr>\n",
       "    <tr>\n",
       "      <th>14958</th>\n",
       "      <td>2015-12-30</td>\n",
       "      <td>3738</td>\n",
       "      <td>onions,flour</td>\n",
       "    </tr>\n",
       "    <tr>\n",
       "      <th>14959</th>\n",
       "      <td>2015-12-30</td>\n",
       "      <td>3971</td>\n",
       "      <td>brown bread,bottled beer</td>\n",
       "    </tr>\n",
       "    <tr>\n",
       "      <th>14960</th>\n",
       "      <td>2015-12-30</td>\n",
       "      <td>4058</td>\n",
       "      <td>domestic eggs,cream cheese</td>\n",
       "    </tr>\n",
       "    <tr>\n",
       "      <th>14961</th>\n",
       "      <td>2015-12-30</td>\n",
       "      <td>4565</td>\n",
       "      <td>canned beer,canned beer</td>\n",
       "    </tr>\n",
       "    <tr>\n",
       "      <th>14962</th>\n",
       "      <td>2015-12-30</td>\n",
       "      <td>4863</td>\n",
       "      <td>dessert,curd</td>\n",
       "    </tr>\n",
       "  </tbody>\n",
       "</table>\n",
       "<p>14963 rows × 3 columns</p>\n",
       "</div>"
      ],
      "text/plain": [
       "            Date  Member_number                        itemDescription\n",
       "0     2014-01-01           1249                    citrus fruit,coffee\n",
       "1     2014-01-01           1381                              curd,soda\n",
       "2     2014-01-01           1440                other vegetables,yogurt\n",
       "3     2014-01-01           1659  specialty chocolate,frozen vegetables\n",
       "4     2014-01-01           1789                 hamburger meat,candles\n",
       "...          ...            ...                                    ...\n",
       "14958 2015-12-30           3738                           onions,flour\n",
       "14959 2015-12-30           3971               brown bread,bottled beer\n",
       "14960 2015-12-30           4058            domestic eggs,cream cheese \n",
       "14961 2015-12-30           4565                canned beer,canned beer\n",
       "14962 2015-12-30           4863                           dessert,curd\n",
       "\n",
       "[14963 rows x 3 columns]"
      ]
     },
     "execution_count": 58,
     "metadata": {},
     "output_type": "execute_result"
    }
   ],
   "source": [
    "grouped_data = sales_data.groupby(['Date','Member_number'])['itemDescription'].agg(lambda x: ','.join(x)).reset_index()\n",
    "grouped_data"
   ]
  },
  {
   "cell_type": "code",
   "execution_count": 59,
   "id": "dea6d1ac",
   "metadata": {},
   "outputs": [
    {
     "data": {
      "text/plain": [
       "3898"
      ]
     },
     "execution_count": 59,
     "metadata": {},
     "output_type": "execute_result"
    }
   ],
   "source": [
    "sales_data['Member_number'].unique().shape[0]"
   ]
  },
  {
   "cell_type": "markdown",
   "id": "49eadabb",
   "metadata": {},
   "source": [
    "# 6. Create a basket matrix"
   ]
  },
  {
   "cell_type": "code",
   "execution_count": 60,
   "id": "805f7428",
   "metadata": {},
   "outputs": [],
   "source": [
    "# create a basket matrix\n",
    "\n",
    "def create_basket(data):\n",
    "    basket = (data.groupby(['Member_number', 'itemDescription'])['itemDescription']\n",
    "              .count().unstack().reset_index().fillna(0)\n",
    "              .set_index('Member_number'))\n",
    "    basket = basket.applymap(lambda x: 1 if x > 0 else 0)\n",
    "    return basket"
   ]
  },
  {
   "cell_type": "markdown",
   "id": "5d07063b",
   "metadata": {},
   "source": [
    "# 7. Apply apriori algorithm to find frequent itemsets"
   ]
  },
  {
   "cell_type": "code",
   "execution_count": 61,
   "id": "5230882b",
   "metadata": {},
   "outputs": [
    {
     "name": "stderr",
     "output_type": "stream",
     "text": [
      "/var/folders/yn/3hhy0_3d3w7bfpvchs0d2c440000gn/T/ipykernel_83219/2486241466.py:7: FutureWarning: DataFrame.applymap has been deprecated. Use DataFrame.map instead.\n",
      "  basket = basket.applymap(lambda x: 1 if x > 0 else 0)\n",
      "/Library/Frameworks/Python.framework/Versions/3.10/lib/python3.10/site-packages/mlxtend/frequent_patterns/fpcommon.py:161: DeprecationWarning: DataFrames with non-bool types result in worse computationalperformance and their support might be discontinued in the future.Please use a DataFrame with bool type\n",
      "  warnings.warn(\n"
     ]
    }
   ],
   "source": [
    "# Generate frequent items sets and association rules\n",
    "\n",
    "basket = create_basket(sales_data)\n",
    "freq_items = apriori(basket, min_support=0.10, use_colnames=True)\n",
    "\n",
    "min_lift = 1\n",
    "rules = association_rules(freq_items, metric='lift',min_threshold=min_lift).sort_values('lift', ascending=False)"
   ]
  },
  {
   "cell_type": "code",
   "execution_count": 62,
   "id": "ac6a0d4f",
   "metadata": {},
   "outputs": [
    {
     "data": {
      "text/html": [
       "<div>\n",
       "<style scoped>\n",
       "    .dataframe tbody tr th:only-of-type {\n",
       "        vertical-align: middle;\n",
       "    }\n",
       "\n",
       "    .dataframe tbody tr th {\n",
       "        vertical-align: top;\n",
       "    }\n",
       "\n",
       "    .dataframe thead th {\n",
       "        text-align: right;\n",
       "    }\n",
       "</style>\n",
       "<table border=\"1\" class=\"dataframe\">\n",
       "  <thead>\n",
       "    <tr style=\"text-align: right;\">\n",
       "      <th></th>\n",
       "      <th>antecedents</th>\n",
       "      <th>consequents</th>\n",
       "      <th>antecedent support</th>\n",
       "      <th>consequent support</th>\n",
       "      <th>support</th>\n",
       "      <th>confidence</th>\n",
       "      <th>lift</th>\n",
       "      <th>representativity</th>\n",
       "      <th>leverage</th>\n",
       "      <th>conviction</th>\n",
       "      <th>zhangs_metric</th>\n",
       "      <th>jaccard</th>\n",
       "      <th>certainty</th>\n",
       "      <th>kulczynski</th>\n",
       "    </tr>\n",
       "  </thead>\n",
       "  <tbody>\n",
       "    <tr>\n",
       "      <th>24</th>\n",
       "      <td>(yogurt)</td>\n",
       "      <td>(whole milk)</td>\n",
       "      <td>0.282966</td>\n",
       "      <td>0.458184</td>\n",
       "      <td>0.150590</td>\n",
       "      <td>0.532185</td>\n",
       "      <td>1.161510</td>\n",
       "      <td>1.0</td>\n",
       "      <td>0.020940</td>\n",
       "      <td>1.158185</td>\n",
       "      <td>0.193926</td>\n",
       "      <td>0.254996</td>\n",
       "      <td>0.136580</td>\n",
       "      <td>0.430426</td>\n",
       "    </tr>\n",
       "    <tr>\n",
       "      <th>0</th>\n",
       "      <td>(bottled water)</td>\n",
       "      <td>(whole milk)</td>\n",
       "      <td>0.213699</td>\n",
       "      <td>0.458184</td>\n",
       "      <td>0.112365</td>\n",
       "      <td>0.525810</td>\n",
       "      <td>1.147597</td>\n",
       "      <td>1.0</td>\n",
       "      <td>0.014452</td>\n",
       "      <td>1.142615</td>\n",
       "      <td>0.163569</td>\n",
       "      <td>0.200825</td>\n",
       "      <td>0.124815</td>\n",
       "      <td>0.385526</td>\n",
       "    </tr>\n",
       "    <tr>\n",
       "      <th>18</th>\n",
       "      <td>(sausage)</td>\n",
       "      <td>(whole milk)</td>\n",
       "      <td>0.206003</td>\n",
       "      <td>0.458184</td>\n",
       "      <td>0.106978</td>\n",
       "      <td>0.519303</td>\n",
       "      <td>1.133394</td>\n",
       "      <td>1.0</td>\n",
       "      <td>0.012591</td>\n",
       "      <td>1.127146</td>\n",
       "      <td>0.148230</td>\n",
       "      <td>0.191989</td>\n",
       "      <td>0.112804</td>\n",
       "      <td>0.376393</td>\n",
       "    </tr>\n",
       "    <tr>\n",
       "      <th>8</th>\n",
       "      <td>(yogurt)</td>\n",
       "      <td>(other vegetables)</td>\n",
       "      <td>0.282966</td>\n",
       "      <td>0.376603</td>\n",
       "      <td>0.120318</td>\n",
       "      <td>0.425204</td>\n",
       "      <td>1.129050</td>\n",
       "      <td>1.0</td>\n",
       "      <td>0.013752</td>\n",
       "      <td>1.084553</td>\n",
       "      <td>0.159406</td>\n",
       "      <td>0.223121</td>\n",
       "      <td>0.077961</td>\n",
       "      <td>0.372343</td>\n",
       "    </tr>\n",
       "    <tr>\n",
       "      <th>12</th>\n",
       "      <td>(rolls/buns)</td>\n",
       "      <td>(whole milk)</td>\n",
       "      <td>0.349666</td>\n",
       "      <td>0.458184</td>\n",
       "      <td>0.178553</td>\n",
       "      <td>0.510638</td>\n",
       "      <td>1.114484</td>\n",
       "      <td>1.0</td>\n",
       "      <td>0.018342</td>\n",
       "      <td>1.107190</td>\n",
       "      <td>0.157955</td>\n",
       "      <td>0.283734</td>\n",
       "      <td>0.096813</td>\n",
       "      <td>0.450168</td>\n",
       "    </tr>\n",
       "    <tr>\n",
       "      <th>2</th>\n",
       "      <td>(rolls/buns)</td>\n",
       "      <td>(other vegetables)</td>\n",
       "      <td>0.349666</td>\n",
       "      <td>0.376603</td>\n",
       "      <td>0.146742</td>\n",
       "      <td>0.419663</td>\n",
       "      <td>1.114335</td>\n",
       "      <td>1.0</td>\n",
       "      <td>0.015056</td>\n",
       "      <td>1.074197</td>\n",
       "      <td>0.157772</td>\n",
       "      <td>0.253209</td>\n",
       "      <td>0.069072</td>\n",
       "      <td>0.404654</td>\n",
       "    </tr>\n",
       "    <tr>\n",
       "      <th>7</th>\n",
       "      <td>(whole milk)</td>\n",
       "      <td>(other vegetables)</td>\n",
       "      <td>0.458184</td>\n",
       "      <td>0.376603</td>\n",
       "      <td>0.191380</td>\n",
       "      <td>0.417693</td>\n",
       "      <td>1.109106</td>\n",
       "      <td>1.0</td>\n",
       "      <td>0.018827</td>\n",
       "      <td>1.070564</td>\n",
       "      <td>0.181562</td>\n",
       "      <td>0.297448</td>\n",
       "      <td>0.065913</td>\n",
       "      <td>0.462934</td>\n",
       "    </tr>\n",
       "    <tr>\n",
       "      <th>6</th>\n",
       "      <td>(other vegetables)</td>\n",
       "      <td>(whole milk)</td>\n",
       "      <td>0.376603</td>\n",
       "      <td>0.458184</td>\n",
       "      <td>0.191380</td>\n",
       "      <td>0.508174</td>\n",
       "      <td>1.109106</td>\n",
       "      <td>1.0</td>\n",
       "      <td>0.018827</td>\n",
       "      <td>1.101643</td>\n",
       "      <td>0.157802</td>\n",
       "      <td>0.297448</td>\n",
       "      <td>0.092265</td>\n",
       "      <td>0.462934</td>\n",
       "    </tr>\n",
       "    <tr>\n",
       "      <th>22</th>\n",
       "      <td>(tropical fruit)</td>\n",
       "      <td>(whole milk)</td>\n",
       "      <td>0.233710</td>\n",
       "      <td>0.458184</td>\n",
       "      <td>0.116470</td>\n",
       "      <td>0.498353</td>\n",
       "      <td>1.087672</td>\n",
       "      <td>1.0</td>\n",
       "      <td>0.009388</td>\n",
       "      <td>1.080076</td>\n",
       "      <td>0.105189</td>\n",
       "      <td>0.202407</td>\n",
       "      <td>0.074139</td>\n",
       "      <td>0.376276</td>\n",
       "    </tr>\n",
       "    <tr>\n",
       "      <th>16</th>\n",
       "      <td>(root vegetables)</td>\n",
       "      <td>(whole milk)</td>\n",
       "      <td>0.230631</td>\n",
       "      <td>0.458184</td>\n",
       "      <td>0.113135</td>\n",
       "      <td>0.490545</td>\n",
       "      <td>1.070630</td>\n",
       "      <td>1.0</td>\n",
       "      <td>0.007464</td>\n",
       "      <td>1.063522</td>\n",
       "      <td>0.085746</td>\n",
       "      <td>0.196524</td>\n",
       "      <td>0.059728</td>\n",
       "      <td>0.368733</td>\n",
       "    </tr>\n",
       "  </tbody>\n",
       "</table>\n",
       "</div>"
      ],
      "text/plain": [
       "           antecedents         consequents  antecedent support  \\\n",
       "24            (yogurt)        (whole milk)            0.282966   \n",
       "0      (bottled water)        (whole milk)            0.213699   \n",
       "18           (sausage)        (whole milk)            0.206003   \n",
       "8             (yogurt)  (other vegetables)            0.282966   \n",
       "12        (rolls/buns)        (whole milk)            0.349666   \n",
       "2         (rolls/buns)  (other vegetables)            0.349666   \n",
       "7         (whole milk)  (other vegetables)            0.458184   \n",
       "6   (other vegetables)        (whole milk)            0.376603   \n",
       "22    (tropical fruit)        (whole milk)            0.233710   \n",
       "16   (root vegetables)        (whole milk)            0.230631   \n",
       "\n",
       "    consequent support   support  confidence      lift  representativity  \\\n",
       "24            0.458184  0.150590    0.532185  1.161510               1.0   \n",
       "0             0.458184  0.112365    0.525810  1.147597               1.0   \n",
       "18            0.458184  0.106978    0.519303  1.133394               1.0   \n",
       "8             0.376603  0.120318    0.425204  1.129050               1.0   \n",
       "12            0.458184  0.178553    0.510638  1.114484               1.0   \n",
       "2             0.376603  0.146742    0.419663  1.114335               1.0   \n",
       "7             0.376603  0.191380    0.417693  1.109106               1.0   \n",
       "6             0.458184  0.191380    0.508174  1.109106               1.0   \n",
       "22            0.458184  0.116470    0.498353  1.087672               1.0   \n",
       "16            0.458184  0.113135    0.490545  1.070630               1.0   \n",
       "\n",
       "    leverage  conviction  zhangs_metric   jaccard  certainty  kulczynski  \n",
       "24  0.020940    1.158185       0.193926  0.254996   0.136580    0.430426  \n",
       "0   0.014452    1.142615       0.163569  0.200825   0.124815    0.385526  \n",
       "18  0.012591    1.127146       0.148230  0.191989   0.112804    0.376393  \n",
       "8   0.013752    1.084553       0.159406  0.223121   0.077961    0.372343  \n",
       "12  0.018342    1.107190       0.157955  0.283734   0.096813    0.450168  \n",
       "2   0.015056    1.074197       0.157772  0.253209   0.069072    0.404654  \n",
       "7   0.018827    1.070564       0.181562  0.297448   0.065913    0.462934  \n",
       "6   0.018827    1.101643       0.157802  0.297448   0.092265    0.462934  \n",
       "22  0.009388    1.080076       0.105189  0.202407   0.074139    0.376276  \n",
       "16  0.007464    1.063522       0.085746  0.196524   0.059728    0.368733  "
      ]
     },
     "execution_count": 62,
     "metadata": {},
     "output_type": "execute_result"
    }
   ],
   "source": [
    "# Filter rules based on confidence and support\n",
    "min_support = 0.10\n",
    "min_confidence = 0.4\n",
    "filtered_rules = rules[(rules['confidence']>=min_confidence) & (rules['support']>=min_support)].copy()\n",
    "filtered_rules = filtered_rules.sort_values('lift', ascending=False)\n",
    "\n",
    "# display results \n",
    "filtered_rules.head(10)"
   ]
  },
  {
   "cell_type": "markdown",
   "id": "aabfcb41",
   "metadata": {},
   "source": [
    "# 8. save the results to a CSV file"
   ]
  },
  {
   "cell_type": "code",
   "execution_count": 63,
   "id": "8b0d5179",
   "metadata": {},
   "outputs": [],
   "source": [
    "# save results to csv\n",
    "required_cols = ['antecedents', 'consequents', 'support', 'confidence', 'lift']\n",
    "filtered_rules = filtered_rules[required_cols]\n",
    "filtered_rules.to_csv('association_rules.csv', index=False)"
   ]
  },
  {
   "cell_type": "markdown",
   "id": "e33893ae",
   "metadata": {},
   "source": [
    "# 9. Visualize the association rules"
   ]
  },
  {
   "cell_type": "code",
   "execution_count": 64,
   "id": "5ba02530",
   "metadata": {},
   "outputs": [
    {
     "name": "stderr",
     "output_type": "stream",
     "text": [
      "/var/folders/yn/3hhy0_3d3w7bfpvchs0d2c440000gn/T/ipykernel_83219/966430401.py:6: UserWarning: Tight layout not applied. The bottom and top margins cannot be made large enough to accommodate all Axes decorations.\n",
      "  plt.tight_layout()\n"
     ]
    },
    {
     "data": {
      "image/png": "[encoded data removed]",
      "text/plain": [
       "<Figure size 640x480 with 1 Axes>"
      ]
     },
     "metadata": {},
     "output_type": "display_data"
    }
   ],
   "source": [
    "plt.bar(filtered_rules['antecedents'].astype(str) + ' -> ' + filtered_rules['consequents'].astype(str), filtered_rules['lift'])\n",
    "plt.xticks(rotation=90)\n",
    "plt.xlabel('Association Products')\n",
    "plt.ylabel('Lift')\n",
    "plt.title('Association Rules with Lift')\n",
    "plt.tight_layout()"
   ]
  },
  {
   "cell_type": "code",
   "execution_count": null,
   "id": "89db6302",
   "metadata": {},
   "outputs": [],
   "source": []
  }
 ],
 "metadata": {
  "kernelspec": {
   "display_name": "Python 3",
   "language": "python",
   "name": "python3"
  },
  "language_info": {
   "codemirror_mode": {
    "name": "ipython",
    "version": 3
   },
   "file_extension": ".py",
   "mimetype": "text/x-python",
   "name": "python",
   "nbconvert_exporter": "python",
   "pygments_lexer": "ipython3",
   "version": "3.10.11"
  }
 },
 "nbformat": 4,
 "nbformat_minor": 5
}
